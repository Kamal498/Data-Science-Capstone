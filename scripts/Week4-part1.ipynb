{
 "cells": [
  {
   "cell_type": "markdown",
   "metadata": {},
   "source": [
    "# The battle of Neighborhoods\n"
   ]
  },
  {
   "cell_type": "markdown",
   "metadata": {},
   "source": [
    "## Week 4 : Part a) -"
   ]
  },
  {
   "cell_type": "markdown",
   "metadata": {},
   "source": [
    "## Title : Restaurant recommender system in Guwahati"
   ]
  },
  {
   "cell_type": "markdown",
   "metadata": {},
   "source": [
    "**Problem background :**"
   ]
  },
  {
   "cell_type": "markdown",
   "metadata": {},
   "source": [
    "Guwahati (formerly known as Gauhati) is the largest city in the Indian state of Assam and also the largest metropolis in northeastern India. A major riverine port city along with hills, and one of the fastest growing cities in India, Guwahati is situated on the south bank of the Brahmaputra. It is called the 'Gateway to North East India'.\n",
    "\n",
    "Guwahati is where much of Assam's city glitter resides. So, while most of the other towns in the state will offer you local preparations in local food joints and a few restaurants, Guwahati sparkles with choices only a commercially developed city can offer. Guwahati sustains the local Assamese foods in its menu such as Nga-Thongba which is a fish and ginger curry, Erongba, a jackfruit-kernel chutney, Laksa and a lot more, and at the same time offers everything from Indian, Mughlai, Chinese to Continental cuisines and a few more. The number of restaurants available here may be less compared to other big cities but the variety in the dishes is no less here."
   ]
  },
  {
   "cell_type": "markdown",
   "metadata": {},
   "source": [
    "**Problem description :**"
   ]
  },
  {
   "cell_type": "markdown",
   "metadata": {},
   "source": [
    "Suppose i travel and keep changing places very frequently. This is very hectic and plus i get to experience very different types of environment, of which i donot have much knowledge about. In such situation, food can be an important factor for decided how you rate your trips and plus also recommmending it to the people. Food can also attract people around to world to try it out if it were to be the best. In such scenarios, we need to find the right place, at reasonable cost, to serve us the best possible way. So there are few questions that must be addresed, such as :\n",
    "\n",
    "How many types of foods are available in the restaurant ?\n",
    "which is the most nearest to me with good rating ?\n",
    "How many \"similar\" restaurants are available near by me ?\n",
    "Do the \"similar\" restaurants cost more ? if so, what speciality do that have ?\n",
    "To address such question, XXYZ company's manager decides to allocate this project to me not just to find out solutions to the questions but also build a system that can help in recommending new places based on their rankings compared to the previously visited by me.\n",
    "\n",
    "Expectations from this recommender system is to get answer for the questions, and in such a way that it uncovers all the perspective of managing recommendations. It is sighted to show :\n",
    "\n",
    "    1. What types of restaurants are present in a paeticular area ?\n",
    "    2. where are the similar restaurant present based on a preference to particular food ?\n",
    "    3. How do different restaurants rank with respect to my preferences ?"
   ]
  },
  {
   "cell_type": "markdown",
   "metadata": {},
   "source": [
    "**Success rate :**"
   ]
  },
  {
   "cell_type": "markdown",
   "metadata": {},
   "source": [
    "With restaurants evolving, new food categories emerge, hybrid food starts to be more popular, we need a system that could help us access vast number of food varieties. It is impossible for a person to ask each and everyone about their visit to a particular place and also not everyone remembers everything. On the other hand, Computers are good at remembering things, and with Machine learning to its peak, it high time technology will by our personal guidence and help us personally based on our likes and dislikes. So people would care about this project as their personal assistance and success rate could certainly increase with time."
   ]
  },
  {
   "cell_type": "code",
   "execution_count": null,
   "metadata": {},
   "outputs": [],
   "source": []
  }
 ],
 "metadata": {
  "kernelspec": {
   "display_name": "Python 3",
   "language": "python",
   "name": "python3"
  },
  "language_info": {
   "codemirror_mode": {
    "name": "ipython",
    "version": 3
   },
   "file_extension": ".py",
   "mimetype": "text/x-python",
   "name": "python",
   "nbconvert_exporter": "python",
   "pygments_lexer": "ipython3",
   "version": "3.7.6"
  }
 },
 "nbformat": 4,
 "nbformat_minor": 4
}
